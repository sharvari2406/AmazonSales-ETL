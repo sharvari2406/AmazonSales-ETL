{
 "cells": [
  {
   "cell_type": "markdown",
   "metadata": {
    "application/vnd.databricks.v1+cell": {
     "cellMetadata": {},
     "inputWidgets": {},
     "nuid": "58d1ddef-fa5b-4744-b24c-3fc0a4e6ccc6",
     "showTitle": false,
     "title": ""
    }
   },
   "source": [
    "##Loading necessary libraries and Configuring Spark to ADLS Gen-2"
   ]
  },
  {
   "cell_type": "code",
   "execution_count": 0,
   "metadata": {
    "application/vnd.databricks.v1+cell": {
     "cellMetadata": {
      "byteLimit": 2048000,
      "rowLimit": 10000
     },
     "inputWidgets": {},
     "nuid": "482d8f3e-20d2-4576-b277-ee1a4cb96c3f",
     "showTitle": false,
     "title": ""
    }
   },
   "outputs": [
    {
     "output_type": "display_data",
     "data": {
      "text/html": [
       "<style scoped>\n",
       "  .ansiout {\n",
       "    display: block;\n",
       "    unicode-bidi: embed;\n",
       "    white-space: pre-wrap;\n",
       "    word-wrap: break-word;\n",
       "    word-break: break-all;\n",
       "    font-family: \"Menlo\", \"Monaco\", \"Consolas\", \"Ubuntu Mono\", \"Source Code Pro\", monospace;\n",
       "    font-size: 13px;\n",
       "    color: #555;\n",
       "    margin-left: 4px;\n",
       "    line-height: 19px;\n",
       "  }\n",
       "</style>\n",
       "<div class=\"ansiout\"></div>"
      ]
     },
     "metadata": {
      "application/vnd.databricks.v1+output": {
       "addedWidgets": {},
       "arguments": {},
       "data": "<div class=\"ansiout\"></div>",
       "datasetInfos": [],
       "metadata": {},
       "removedWidgets": [],
       "type": "html"
      }
     },
     "output_type": "display_data"
    }
   ],
   "source": [
    "import pandas as pd\n",
    "import numpy as np\n",
    "from pyspark.sql.types import *\n",
    "import pyspark.sql.functions as F\n",
    "\n",
    "spark.conf.set(\n",
    "    \"fs.azure.account.key.moviedatanalytics.dfs.core.windows.net\",\"xs8eaOJ+uzl3/n8bz4au+ieUyllqksTZvuvLBa+ybkV3/DQjfPKN/75c/reepUbu/QMY2vM5HgUh+ASt7RUWaw==\")"
   ]
  },
  {
   "cell_type": "markdown",
   "metadata": {
    "application/vnd.databricks.v1+cell": {
     "cellMetadata": {},
     "inputWidgets": {},
     "nuid": "b7e978fe-a103-4985-adca-0065eda23498",
     "showTitle": false,
     "title": ""
    }
   },
   "source": [
    "##Creating Paths"
   ]
  },
  {
   "cell_type": "code",
   "execution_count": 0,
   "metadata": {
    "application/vnd.databricks.v1+cell": {
     "cellMetadata": {
      "byteLimit": 2048000,
      "rowLimit": 10000
     },
     "inputWidgets": {},
     "nuid": "2167a226-01d7-4926-94a5-c3dcbac12eb7",
     "showTitle": false,
     "title": ""
    }
   },
   "outputs": [
    {
     "output_type": "display_data",
     "data": {
      "text/html": [
       "<style scoped>\n",
       "  .ansiout {\n",
       "    display: block;\n",
       "    unicode-bidi: embed;\n",
       "    white-space: pre-wrap;\n",
       "    word-wrap: break-word;\n",
       "    word-break: break-all;\n",
       "    font-family: \"Menlo\", \"Monaco\", \"Consolas\", \"Ubuntu Mono\", \"Source Code Pro\", monospace;\n",
       "    font-size: 13px;\n",
       "    color: #555;\n",
       "    margin-left: 4px;\n",
       "    line-height: 19px;\n",
       "  }\n",
       "</style>\n",
       "<div class=\"ansiout\"></div>"
      ]
     },
     "metadata": {
      "application/vnd.databricks.v1+output": {
       "addedWidgets": {},
       "arguments": {},
       "data": "<div class=\"ansiout\"></div>",
       "datasetInfos": [],
       "metadata": {},
       "removedWidgets": [],
       "type": "html"
      }
     },
     "output_type": "display_data"
    }
   ],
   "source": [
    "adls_source_path = 'abfss://amazonsalesanalyrics@moviedatanalytics.dfs.core.windows.net/'\n",
    "\n",
    "source_path = adls_source_path + 'raw_data/'\n",
    "india_sales_path = source_path + 'Amazon Sale Report.csv'\n",
    "intl_sales_path = source_path + 'Amazon Sale Report.csv'\n",
    "\n",
    "sink_path = adls_source_path + 'processed_data/'\n",
    "retail_india_data_l0_path = sink_path + 'retail_india_data_l0/'\n",
    "retail_intl_data_l0_path = sink_path + 'retail_intl_data_l0/'"
   ]
  },
  {
   "cell_type": "markdown",
   "metadata": {
    "application/vnd.databricks.v1+cell": {
     "cellMetadata": {},
     "inputWidgets": {},
     "nuid": "c903baa6-33b2-423f-b39d-bd8b72fcb248",
     "showTitle": false,
     "title": ""
    }
   },
   "source": [
    "##Loading and viewing Amazon India and Amazon Intl Sales Tables"
   ]
  },
  {
   "cell_type": "code",
   "execution_count": 0,
   "metadata": {
    "application/vnd.databricks.v1+cell": {
     "cellMetadata": {
      "byteLimit": 2048000,
      "rowLimit": 10000
     },
     "inputWidgets": {},
     "nuid": "a0fea261-600e-40af-99ef-24d2719868b9",
     "showTitle": false,
     "title": ""
    }
   },
   "outputs": [
    {
     "output_type": "display_data",
     "data": {
      "text/html": [
       "<style scoped>\n",
       "  .ansiout {\n",
       "    display: block;\n",
       "    unicode-bidi: embed;\n",
       "    white-space: pre-wrap;\n",
       "    word-wrap: break-word;\n",
       "    word-break: break-all;\n",
       "    font-family: \"Menlo\", \"Monaco\", \"Consolas\", \"Ubuntu Mono\", \"Source Code Pro\", monospace;\n",
       "    font-size: 13px;\n",
       "    color: #555;\n",
       "    margin-left: 4px;\n",
       "    line-height: 19px;\n",
       "  }\n",
       "</style>\n",
       "<div class=\"ansiout\"></div>"
      ]
     },
     "metadata": {
      "application/vnd.databricks.v1+output": {
       "addedWidgets": {},
       "arguments": {},
       "data": "<div class=\"ansiout\"></div>",
       "datasetInfos": [],
       "metadata": {},
       "removedWidgets": [],
       "type": "html"
      }
     },
     "output_type": "display_data"
    }
   ],
   "source": [
    "retail_india_data = spark.read.csv(path=india_sales_path,header=True, inferSchema= True)"
   ]
  },
  {
   "cell_type": "code",
   "execution_count": 0,
   "metadata": {
    "application/vnd.databricks.v1+cell": {
     "cellMetadata": {
      "byteLimit": 2048000,
      "rowLimit": 10000
     },
     "inputWidgets": {},
     "nuid": "fa1fdd19-6531-491d-a4a2-91514595f644",
     "showTitle": false,
     "title": ""
    }
   },
   "outputs": [
    {
     "output_type": "display_data",
     "data": {
      "text/html": [
       "<style scoped>\n",
       "  .ansiout {\n",
       "    display: block;\n",
       "    unicode-bidi: embed;\n",
       "    white-space: pre-wrap;\n",
       "    word-wrap: break-word;\n",
       "    word-break: break-all;\n",
       "    font-family: \"Menlo\", \"Monaco\", \"Consolas\", \"Ubuntu Mono\", \"Source Code Pro\", monospace;\n",
       "    font-size: 13px;\n",
       "    color: #555;\n",
       "    margin-left: 4px;\n",
       "    line-height: 19px;\n",
       "  }\n",
       "</style>\n",
       "<div class=\"ansiout\"></div>"
      ]
     },
     "metadata": {
      "application/vnd.databricks.v1+output": {
       "addedWidgets": {},
       "arguments": {},
       "data": "<div class=\"ansiout\"></div>",
       "datasetInfos": [],
       "metadata": {},
       "removedWidgets": [],
       "type": "html"
      }
     },
     "output_type": "display_data"
    }
   ],
   "source": [
    "retail_intl_data = spark.read.csv(path=intl_sales_path,header=True, inferSchema= True)"
   ]
  },
  {
   "cell_type": "markdown",
   "metadata": {
    "application/vnd.databricks.v1+cell": {
     "cellMetadata": {},
     "inputWidgets": {},
     "nuid": "9026d26b-e4e5-47b3-81e3-fcae3db11ddd",
     "showTitle": false,
     "title": ""
    }
   },
   "source": [
    "##Renaming, Typecasting columns and standardizing Category and SKU columns"
   ]
  },
  {
   "cell_type": "code",
   "execution_count": 0,
   "metadata": {
    "application/vnd.databricks.v1+cell": {
     "cellMetadata": {
      "byteLimit": 2048000,
      "rowLimit": 10000
     },
     "inputWidgets": {},
     "nuid": "0bae96fd-52d3-4600-bf14-1894c77161cb",
     "showTitle": false,
     "title": ""
    }
   },
   "outputs": [
    {
     "output_type": "display_data",
     "data": {
      "text/html": [
       "<style scoped>\n",
       "  .ansiout {\n",
       "    display: block;\n",
       "    unicode-bidi: embed;\n",
       "    white-space: pre-wrap;\n",
       "    word-wrap: break-word;\n",
       "    word-break: break-all;\n",
       "    font-family: \"Menlo\", \"Monaco\", \"Consolas\", \"Ubuntu Mono\", \"Source Code Pro\", monospace;\n",
       "    font-size: 13px;\n",
       "    color: #555;\n",
       "    margin-left: 4px;\n",
       "    line-height: 19px;\n",
       "  }\n",
       "</style>\n",
       "<div class=\"ansiout\"></div>"
      ]
     },
     "metadata": {
      "application/vnd.databricks.v1+output": {
       "addedWidgets": {},
       "arguments": {},
       "data": "<div class=\"ansiout\"></div>",
       "datasetInfos": [],
       "metadata": {},
       "removedWidgets": [],
       "type": "html"
      }
     },
     "output_type": "display_data"
    }
   ],
   "source": [
    "def to_camel_case(col_name):\n",
    "    parts = col_name.split(\" \")\n",
    "    camel_case_parts = []\n",
    "    for part in parts:\n",
    "        if \"-\" in part:\n",
    "            sub_parts = part.split(\"-\")\n",
    "            camel_case_sub_parts = [sub_parts[0].lower()] + [sub_part.title() for sub_part in sub_parts[1:]]\n",
    "            camel_case_parts.append(\"_\".join(camel_case_sub_parts))\n",
    "        else:\n",
    "            camel_case_parts.append(part.lower() if not camel_case_parts else part.title())\n",
    "    return \"_\".join(camel_case_parts)\n",
    "\n",
    "drop_cols = ['index','Unnamed: 22']\n",
    "retail_india_data = retail_india_data.drop(*drop_cols)\n",
    "\n",
    "retail_india_data = retail_india_data.select([retail_india_data[col].alias(to_camel_case(col)) for col in retail_india_data.columns])\n",
    "\n",
    "retail_india_data = retail_india_data.withColumnRenamed('order_Id','order_id')\\\n",
    "                                     .withColumnRenamed('sales_Channel_','sales_channel')\\\n",
    "                                     .withColumnRenamed('courier_Status','courier_status')\\\n",
    "                                     .withColumnRenamed('ship_Service_Level','ship_service_level')\\\n",
    "                                     .withColumnRenamed('ship_City','ship_city')\\\n",
    "                                     .withColumnRenamed('ship_State','ship_state')\\\n",
    "                                     .withColumnRenamed('ship_Postal_Code','ship_postal_code')\\\n",
    "                                     .withColumnRenamed('ship_Country','ship_country')\\\n",
    "                                     .withColumnRenamed('promotion_Ids','promotion_ids')\\\n",
    "                                     .withColumnRenamed('fulfilled_By','fulfilled_by')\\\n",
    "                                     .withColumn('sku',F.upper(F.col('sku')))\\\n",
    "                                     .withColumn('category',F.upper(F.col('category')))"
   ]
  },
  {
   "cell_type": "markdown",
   "metadata": {
    "application/vnd.databricks.v1+cell": {
     "cellMetadata": {},
     "inputWidgets": {},
     "nuid": "d13b47ed-cc27-41ea-b22f-3b34f72ab308",
     "showTitle": false,
     "title": ""
    }
   },
   "source": [
    "##Observing the Courier Status Column"
   ]
  },
  {
   "cell_type": "code",
   "execution_count": 0,
   "metadata": {
    "application/vnd.databricks.v1+cell": {
     "cellMetadata": {
      "byteLimit": 2048000,
      "rowLimit": 10000
     },
     "inputWidgets": {},
     "nuid": "14093eee-fe99-4148-b249-e6912820e7ec",
     "showTitle": false,
     "title": ""
    }
   },
   "outputs": [
    {
     "output_type": "display_data",
     "data": {
      "text/html": [
       "<style scoped>\n",
       "  .table-result-container {\n",
       "    max-height: 300px;\n",
       "    overflow: auto;\n",
       "  }\n",
       "  table, th, td {\n",
       "    border: 1px solid black;\n",
       "    border-collapse: collapse;\n",
       "  }\n",
       "  th, td {\n",
       "    padding: 5px;\n",
       "  }\n",
       "  th {\n",
       "    text-align: left;\n",
       "  }\n",
       "</style><div class='table-result-container'><table class='table-result'><thead style='background-color: white'><tr><th>courier_status</th><th>count</th></tr></thead><tbody><tr><td>Shipped</td><td>109487</td></tr><tr><td>null</td><td>6872</td></tr><tr><td>Cancelled</td><td>5935</td></tr><tr><td>Unshipped</td><td>6681</td></tr></tbody></table></div>"
      ]
     },
     "metadata": {
      "application/vnd.databricks.v1+output": {
       "addedWidgets": {},
       "aggData": [],
       "aggError": "",
       "aggOverflow": false,
       "aggSchema": [],
       "aggSeriesLimitReached": false,
       "aggType": "",
       "arguments": {},
       "columnCustomDisplayInfos": {},
       "data": [
        [
         "Shipped",
         109487
        ],
        [
         null,
         6872
        ],
        [
         "Cancelled",
         5935
        ],
        [
         "Unshipped",
         6681
        ]
       ],
       "datasetInfos": [],
       "dbfsResultPath": null,
       "isJsonSchema": true,
       "metadata": {},
       "overflow": false,
       "plotOptions": {
        "customPlotOptions": {},
        "displayType": "table",
        "pivotAggregation": null,
        "pivotColumns": null,
        "xColumns": null,
        "yColumns": null
       },
       "removedWidgets": [],
       "schema": [
        {
         "metadata": "{}",
         "name": "courier_status",
         "type": "\"string\""
        },
        {
         "metadata": "{}",
         "name": "count",
         "type": "\"long\""
        }
       ],
       "type": "table"
      }
     },
     "output_type": "display_data"
    }
   ],
   "source": [
    "retail_india_data.groupBy('courier_status').count().display()"
   ]
  },
  {
   "cell_type": "markdown",
   "metadata": {
    "application/vnd.databricks.v1+cell": {
     "cellMetadata": {},
     "inputWidgets": {},
     "nuid": "cad0a144-d135-49a9-882a-ae5ac17d8329",
     "showTitle": false,
     "title": ""
    }
   },
   "source": [
    "##Fixing the Courier Status column and observing post fix"
   ]
  },
  {
   "cell_type": "code",
   "execution_count": 0,
   "metadata": {
    "application/vnd.databricks.v1+cell": {
     "cellMetadata": {
      "byteLimit": 2048000,
      "rowLimit": 10000
     },
     "inputWidgets": {},
     "nuid": "f90801be-ca54-467d-8368-1e7987505373",
     "showTitle": false,
     "title": ""
    }
   },
   "outputs": [
    {
     "output_type": "display_data",
     "data": {
      "text/html": [
       "<style scoped>\n",
       "  .table-result-container {\n",
       "    max-height: 300px;\n",
       "    overflow: auto;\n",
       "  }\n",
       "  table, th, td {\n",
       "    border: 1px solid black;\n",
       "    border-collapse: collapse;\n",
       "  }\n",
       "  th, td {\n",
       "    padding: 5px;\n",
       "  }\n",
       "  th {\n",
       "    text-align: left;\n",
       "  }\n",
       "</style><div class='table-result-container'><table class='table-result'><thead style='background-color: white'><tr><th>courier_status</th><th>count</th></tr></thead><tbody><tr><td>Shipped</td><td>109487</td></tr><tr><td>Cancelled</td><td>5935</td></tr><tr><td>Unshipped</td><td>6681</td></tr></tbody></table></div>"
      ]
     },
     "metadata": {
      "application/vnd.databricks.v1+output": {
       "addedWidgets": {},
       "aggData": [],
       "aggError": "",
       "aggOverflow": false,
       "aggSchema": [],
       "aggSeriesLimitReached": false,
       "aggType": "",
       "arguments": {},
       "columnCustomDisplayInfos": {},
       "data": [
        [
         "Shipped",
         109487
        ],
        [
         "Cancelled",
         5935
        ],
        [
         "Unshipped",
         6681
        ]
       ],
       "datasetInfos": [],
       "dbfsResultPath": null,
       "isJsonSchema": true,
       "metadata": {},
       "overflow": false,
       "plotOptions": {
        "customPlotOptions": {},
        "displayType": "table",
        "pivotAggregation": null,
        "pivotColumns": null,
        "xColumns": null,
        "yColumns": null
       },
       "removedWidgets": [],
       "schema": [
        {
         "metadata": "{}",
         "name": "courier_status",
         "type": "\"string\""
        },
        {
         "metadata": "{}",
         "name": "count",
         "type": "\"long\""
        }
       ],
       "type": "table"
      }
     },
     "output_type": "display_data"
    }
   ],
   "source": [
    "retail_india_data = retail_india_data.filter(F.col(\"courier_status\").isNotNull())\n",
    "retail_india_data.groupBy('courier_status').count().display()"
   ]
  },
  {
   "cell_type": "markdown",
   "metadata": {
    "application/vnd.databricks.v1+cell": {
     "cellMetadata": {},
     "inputWidgets": {},
     "nuid": "6653cd60-5036-40b9-b48b-67ad49429e74",
     "showTitle": false,
     "title": ""
    }
   },
   "source": [
    "##Imputing Fulfilled and Promotion ID columns"
   ]
  },
  {
   "cell_type": "code",
   "execution_count": 0,
   "metadata": {
    "application/vnd.databricks.v1+cell": {
     "cellMetadata": {
      "byteLimit": 2048000,
      "rowLimit": 10000
     },
     "inputWidgets": {},
     "nuid": "ce0513c4-b023-4571-b334-90b67bdf5b46",
     "showTitle": false,
     "title": ""
    }
   },
   "outputs": [
    {
     "output_type": "display_data",
     "data": {
      "text/html": [
       "<style scoped>\n",
       "  .table-result-container {\n",
       "    max-height: 300px;\n",
       "    overflow: auto;\n",
       "  }\n",
       "  table, th, td {\n",
       "    border: 1px solid black;\n",
       "    border-collapse: collapse;\n",
       "  }\n",
       "  th, td {\n",
       "    padding: 5px;\n",
       "  }\n",
       "  th {\n",
       "    text-align: left;\n",
       "  }\n",
       "</style><div class='table-result-container'><table class='table-result'><thead style='background-color: white'><tr><th>promotion_ids</th><th>count</th></tr></thead><tbody><tr><td>Promotion</td><td>79822</td></tr><tr><td>No Promotion</td><td>42281</td></tr></tbody></table></div>"
      ]
     },
     "metadata": {
      "application/vnd.databricks.v1+output": {
       "addedWidgets": {},
       "aggData": [],
       "aggError": "",
       "aggOverflow": false,
       "aggSchema": [],
       "aggSeriesLimitReached": false,
       "aggType": "",
       "arguments": {},
       "columnCustomDisplayInfos": {},
       "data": [
        [
         "Promotion",
         79822
        ],
        [
         "No Promotion",
         42281
        ]
       ],
       "datasetInfos": [],
       "dbfsResultPath": null,
       "isJsonSchema": true,
       "metadata": {},
       "overflow": false,
       "plotOptions": {
        "customPlotOptions": {},
        "displayType": "table",
        "pivotAggregation": null,
        "pivotColumns": null,
        "xColumns": null,
        "yColumns": null
       },
       "removedWidgets": [],
       "schema": [
        {
         "metadata": "{}",
         "name": "promotion_ids",
         "type": "\"string\""
        },
        {
         "metadata": "{}",
         "name": "count",
         "type": "\"long\""
        }
       ],
       "type": "table"
      }
     },
     "output_type": "display_data"
    }
   ],
   "source": [
    "retail_india_data = retail_india_data.fillna({'fulfilled_by': 'Not Easy Ship'})\n",
    "\n",
    "retail_india_data = retail_india_data.withColumn(\"promotion_ids\",F.when(F.col('promotion_ids').isNull(), F.lit('No Promotion'))\\\n",
    "                                                                  .otherwise(F.lit('Promotion')))\n",
    "\n",
    "retail_india_data.groupBy('promotion_ids').count().display()"
   ]
  },
  {
   "cell_type": "markdown",
   "metadata": {
    "application/vnd.databricks.v1+cell": {
     "cellMetadata": {},
     "inputWidgets": {},
     "nuid": "f77e4e04-fc0b-4ea3-a7f9-4e84f78160d0",
     "showTitle": false,
     "title": ""
    }
   },
   "source": [
    "##Performing the same operations on the International Sales Data"
   ]
  },
  {
   "cell_type": "code",
   "execution_count": 0,
   "metadata": {
    "application/vnd.databricks.v1+cell": {
     "cellMetadata": {
      "byteLimit": 2048000,
      "rowLimit": 10000
     },
     "inputWidgets": {},
     "nuid": "2390f5f8-d92a-40e2-81f5-4b9862be9ee2",
     "showTitle": false,
     "title": ""
    }
   },
   "outputs": [
    {
     "output_type": "display_data",
     "data": {
      "text/html": [
       "<style scoped>\n",
       "  .ansiout {\n",
       "    display: block;\n",
       "    unicode-bidi: embed;\n",
       "    white-space: pre-wrap;\n",
       "    word-wrap: break-word;\n",
       "    word-break: break-all;\n",
       "    font-family: \"Menlo\", \"Monaco\", \"Consolas\", \"Ubuntu Mono\", \"Source Code Pro\", monospace;\n",
       "    font-size: 13px;\n",
       "    color: #555;\n",
       "    margin-left: 4px;\n",
       "    line-height: 19px;\n",
       "  }\n",
       "</style>\n",
       "<div class=\"ansiout\"></div>"
      ]
     },
     "metadata": {
      "application/vnd.databricks.v1+output": {
       "addedWidgets": {},
       "arguments": {},
       "data": "<div class=\"ansiout\"></div>",
       "datasetInfos": [],
       "metadata": {},
       "removedWidgets": [],
       "type": "html"
      }
     },
     "output_type": "display_data"
    }
   ],
   "source": [
    "retail_intl_data = retail_intl_data.withColumnRenamed('SKU','sku')\\\n",
    "                                   .withColumnRenamed('Status','intl_ship_status')\\\n",
    "                                   .withColumnRenamed('ship-service-level','intl_ship_service_level')\\\n",
    "                                   .withColumnRenamed('Qty','intl_qty')\\\n",
    "                                   .withColumnRenamed('Amount','intl_amount')\\\n",
    "                                   .withColumnRenamed('promotion-ids','intl_promotion')\\\n",
    "                                   .withColumnRenamed('Order ID','intl_order_id')\\\n",
    "                                   .withColumnRenamed('Fulfilment','intl_fulfilment')\\\n",
    "                                   .withColumnRenamed('size','intl_size')\\\n",
    "                                   .withColumnRenamed('B2B','intl_b2b')\\\n",
    "                                   .withColumn('sku',F.upper(F.col('sku')))\\\n",
    "                                   .withColumn('category',F.upper(F.col('category')))\n",
    "\n",
    "retail_intl_data = retail_intl_data.select('intl_order_id','date','intl_ship_status','intl_fulfilment','intl_ship_service_level','sku','category','intl_size','intl_qty','intl_amount','intl_promotion','intl_b2b')\n",
    "\n",
    "retail_intl_data = retail_intl_data.withColumn(\"intl_promotion\",F.when(F.col('intl_promotion').isNull(), F.lit('No Promotion'))\\\n",
    "                                                                  .otherwise(F.lit('Promotion')))"
   ]
  },
  {
   "cell_type": "markdown",
   "metadata": {
    "application/vnd.databricks.v1+cell": {
     "cellMetadata": {},
     "inputWidgets": {},
     "nuid": "74f6f444-75b1-43f2-a25b-2ada666317d3",
     "showTitle": false,
     "title": ""
    }
   },
   "source": [
    "##Creating a database for this project"
   ]
  },
  {
   "cell_type": "code",
   "execution_count": 0,
   "metadata": {
    "application/vnd.databricks.v1+cell": {
     "cellMetadata": {
      "byteLimit": 2048000,
      "rowLimit": 10000
     },
     "inputWidgets": {},
     "nuid": "c4c6dadf-6e38-451b-ab06-a9ab2e07b2f8",
     "showTitle": false,
     "title": ""
    }
   },
   "outputs": [
    {
     "output_type": "display_data",
     "data": {
      "text/html": [
       "<style scoped>\n",
       "  .ansiout {\n",
       "    display: block;\n",
       "    unicode-bidi: embed;\n",
       "    white-space: pre-wrap;\n",
       "    word-wrap: break-word;\n",
       "    word-break: break-all;\n",
       "    font-family: \"Menlo\", \"Monaco\", \"Consolas\", \"Ubuntu Mono\", \"Source Code Pro\", monospace;\n",
       "    font-size: 13px;\n",
       "    color: #555;\n",
       "    margin-left: 4px;\n",
       "    line-height: 19px;\n",
       "  }\n",
       "</style>\n",
       "<div class=\"ansiout\">Out[11]: DataFrame[]</div>"
      ]
     },
     "metadata": {
      "application/vnd.databricks.v1+output": {
       "addedWidgets": {},
       "arguments": {},
       "data": "<div class=\"ansiout\">Out[11]: DataFrame[]</div>",
       "datasetInfos": [],
       "metadata": {},
       "removedWidgets": [],
       "type": "html"
      }
     },
     "output_type": "display_data"
    }
   ],
   "source": [
    "spark.sql(\"CREATE DATABASE IF NOT EXISTS amazon_india_sales_analysis\")\n",
    "spark.sql(\"USE amazon_india_sales_analysis\")"
   ]
  },
  {
   "cell_type": "markdown",
   "metadata": {
    "application/vnd.databricks.v1+cell": {
     "cellMetadata": {},
     "inputWidgets": {},
     "nuid": "f7387e16-84a8-4fd3-90f3-44985c2c9078",
     "showTitle": false,
     "title": ""
    }
   },
   "source": [
    "##Creating and Loading the cleaned India Sales Data to ADLS as a Delta table"
   ]
  },
  {
   "cell_type": "code",
   "execution_count": 0,
   "metadata": {
    "application/vnd.databricks.v1+cell": {
     "cellMetadata": {
      "byteLimit": 2048000,
      "rowLimit": 10000
     },
     "inputWidgets": {},
     "nuid": "77d3baae-082d-49c4-84a9-ef2bf6c05daa",
     "showTitle": false,
     "title": ""
    }
   },
   "outputs": [
    {
     "output_type": "display_data",
     "data": {
      "text/html": [
       "<style scoped>\n",
       "  .ansiout {\n",
       "    display: block;\n",
       "    unicode-bidi: embed;\n",
       "    white-space: pre-wrap;\n",
       "    word-wrap: break-word;\n",
       "    word-break: break-all;\n",
       "    font-family: \"Menlo\", \"Monaco\", \"Consolas\", \"Ubuntu Mono\", \"Source Code Pro\", monospace;\n",
       "    font-size: 13px;\n",
       "    color: #555;\n",
       "    margin-left: 4px;\n",
       "    line-height: 19px;\n",
       "  }\n",
       "</style>\n",
       "<div class=\"ansiout\"></div>"
      ]
     },
     "metadata": {
      "application/vnd.databricks.v1+output": {
       "addedWidgets": {},
       "arguments": {},
       "data": "<div class=\"ansiout\"></div>",
       "datasetInfos": [],
       "metadata": {},
       "removedWidgets": [],
       "type": "html"
      }
     },
     "output_type": "display_data"
    }
   ],
   "source": [
    "spark.sql(f\"\"\"\n",
    "CREATE TABLE IF NOT EXISTS retail_india_data_l0(\n",
    "    order_id string,\n",
    "    date string,\n",
    "    status string,\n",
    "    fulfilment string,\n",
    "    sales_channel string,\n",
    "    ship_service_level string,\n",
    "    style string,\n",
    "    sku string,\n",
    "    category string,\n",
    "    size string,\n",
    "    asin string,\n",
    "    courier_status string,\n",
    "    qty integer,\n",
    "    currency string,\n",
    "    amount double,\n",
    "    ship_city string,\n",
    "    ship_state string,\n",
    "    ship_postal_code double,\n",
    "    ship_country string,\n",
    "    promotion_ids string,\n",
    "    b2b boolean,\n",
    "    fulfilled_by string,\n",
    "    intl string\n",
    ")\n",
    "USING DELTA\n",
    "LOCATION '{retail_india_data_l0_path}'\n",
    "\"\"\")\n",
    "\n",
    "retail_india_data.write.format(\"delta\").mode(\"overwrite\").save(retail_india_data_l0_path)"
   ]
  },
  {
   "cell_type": "markdown",
   "metadata": {
    "application/vnd.databricks.v1+cell": {
     "cellMetadata": {},
     "inputWidgets": {},
     "nuid": "1a4d7c1a-f3ea-4d60-a120-2e4e09caa66e",
     "showTitle": false,
     "title": ""
    }
   },
   "source": [
    "##Creating and Loading the cleaned International Sales Data to ADLS as a Delta table"
   ]
  },
  {
   "cell_type": "code",
   "execution_count": 0,
   "metadata": {
    "application/vnd.databricks.v1+cell": {
     "cellMetadata": {
      "byteLimit": 2048000,
      "rowLimit": 10000
     },
     "inputWidgets": {},
     "nuid": "f2afcc99-a2a5-491f-98af-a15f617fa05c",
     "showTitle": false,
     "title": ""
    }
   },
   "outputs": [
    {
     "output_type": "display_data",
     "data": {
      "text/html": [
       "<style scoped>\n",
       "  .ansiout {\n",
       "    display: block;\n",
       "    unicode-bidi: embed;\n",
       "    white-space: pre-wrap;\n",
       "    word-wrap: break-word;\n",
       "    word-break: break-all;\n",
       "    font-family: \"Menlo\", \"Monaco\", \"Consolas\", \"Ubuntu Mono\", \"Source Code Pro\", monospace;\n",
       "    font-size: 13px;\n",
       "    color: #555;\n",
       "    margin-left: 4px;\n",
       "    line-height: 19px;\n",
       "  }\n",
       "</style>\n",
       "<div class=\"ansiout\"></div>"
      ]
     },
     "metadata": {
      "application/vnd.databricks.v1+output": {
       "addedWidgets": {},
       "arguments": {},
       "data": "<div class=\"ansiout\"></div>",
       "datasetInfos": [],
       "metadata": {},
       "removedWidgets": [],
       "type": "html"
      }
     },
     "output_type": "display_data"
    }
   ],
   "source": [
    "spark.sql(f\"\"\"\n",
    "CREATE TABLE IF NOT EXISTS retail_intl_data_l0(\n",
    "    intl_order_id string,\n",
    "    date string,\n",
    "    intl_ship_status string,\n",
    "    intl_fulfilment string,\n",
    "    intl_ship_service_level string,\n",
    "    sku string,\n",
    "    category string,\n",
    "    intl_size string,\n",
    "    intl_qty integer,\n",
    "    intl_amount double,\n",
    "    intl_promotion string,\n",
    "    intl_b2b boolean\n",
    ")\n",
    "USING DELTA\n",
    "LOCATION '{retail_intl_data_l0_path}'\n",
    "\"\"\")\n",
    "\n",
    "retail_intl_data.write.format(\"delta\").mode(\"overwrite\").save(retail_intl_data_l0_path)"
   ]
  },
  {
   "cell_type": "code",
   "execution_count": 0,
   "metadata": {
    "application/vnd.databricks.v1+cell": {
     "cellMetadata": {},
     "inputWidgets": {},
     "nuid": "4291a002-bde8-4b74-b7e0-16da33642b91",
     "showTitle": false,
     "title": ""
    }
   },
   "outputs": [],
   "source": []
  }
 ],
 "metadata": {
  "application/vnd.databricks.v1+notebook": {
   "dashboards": [],
   "language": "python",
   "notebookMetadata": {
    "pythonIndentUnit": 4
   },
   "notebookName": "AMZAON_SALES_ANALYSIS_L0",
   "widgets": {}
  }
 },
 "nbformat": 4,
 "nbformat_minor": 0
}
